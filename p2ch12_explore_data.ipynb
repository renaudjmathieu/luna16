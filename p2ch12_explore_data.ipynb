{
 "cells": [
  {
   "cell_type": "code",
   "execution_count": null,
   "metadata": {},
   "outputs": [],
   "source": [
    "%matplotlib inline\n",
    "import copy\n",
    "import numpy as np\n",
    "import matplotlib.pyplot as plt"
   ]
  },
  {
   "cell_type": "code",
   "execution_count": null,
   "metadata": {},
   "outputs": [],
   "source": [
    "import torch\n",
    "from p2ch12.dsets import getCandidateInfoList, getCt, LunaDataset\n",
    "from util.util import xyz2irc\n",
    "\n",
    "\n",
    "candidateInfo_list = getCandidateInfoList(requireOnDisk_bool=False)\n",
    "candidateInfo_list[0]"
   ]
  },
  {
   "cell_type": "code",
   "execution_count": null,
   "metadata": {},
   "outputs": [],
   "source": [
    "from p2ch12.vis import findPositiveSamples, showCandidate\n",
    "positiveSample_list = findPositiveSamples()"
   ]
  },
  {
   "cell_type": "code",
   "execution_count": null,
   "metadata": {},
   "outputs": [],
   "source": [
    "augmentation_dict = {}\n",
    "augmentation_list = [\n",
    "    ('None', {}),\n",
    "    ('flip', {'flip': True}),\n",
    "    ('offset', {'offset': 0.1}),\n",
    "    ('scale', {'scale': 0.2}),\n",
    "    ('rotate', {'rotate': True}),\n",
    "    ('noise', {'noise': 25.0}),    \n",
    "]\n",
    "ds_list = [\n",
    "    LunaDataset(sortby_str='label_and_size', augmentation_dict=augmentation_dict) \n",
    "    for title_str, augmentation_dict in augmentation_list\n",
    "]\n",
    "\n",
    "all_dict = {}\n",
    "for title_str, augmentation_dict in augmentation_list:\n",
    "    all_dict.update(augmentation_dict)\n",
    "all_ds = LunaDataset(sortby_str='label_and_size', augmentation_dict=all_dict)\n",
    "\n",
    "augmentation_list.extend([('All', augmentation_dict)] * 3)\n",
    "ds_list.extend([all_ds] * 3)\n",
    "\n"
   ]
  },
  {
   "cell_type": "code",
   "execution_count": null,
   "metadata": {},
   "outputs": [],
   "source": [
    "sample_ndx = 100\n",
    "sample_ndx = 154\n",
    "sample_ndx = 155\n",
    "\n",
    "\n",
    "sample_tup = all_ds[sample_ndx]\n",
    "print(sample_tup[0].shape, sample_tup[1:])\n",
    "\n",
    "fig = plt.figure(figsize=(30, 30))\n",
    "\n",
    "clim=(-1000.0, 300)\n",
    "\n",
    "for i, ((title_str, _), ds) in enumerate(zip(augmentation_list, ds_list)):\n",
    "    sample_tup = ds[sample_ndx]\n",
    "    subplot = fig.add_subplot(3, 3, i+1)\n",
    "    subplot.set_title(title_str, fontsize=30)\n",
    "    for label in (subplot.get_xticklabels() + subplot.get_yticklabels()):\n",
    "        label.set_fontsize(20)\n",
    "    plt.imshow(sample_tup[0][0][16], clim=clim, cmap='gray')\n",
    "\n"
   ]
  },
  {
   "cell_type": "code",
   "execution_count": null,
   "metadata": {},
   "outputs": [],
   "source": [
    "series_uid = positiveSample_list[1][2]\n",
    "showCandidate(series_uid)"
   ]
  }
 ],
 "metadata": {
  "kernelspec": {
   "display_name": "Python 3",
   "language": "python",
   "name": "python3"
  },
  "language_info": {
   "codemirror_mode": {
    "name": "ipython",
    "version": 3
   },
   "file_extension": ".py",
   "mimetype": "text/x-python",
   "name": "python",
   "nbconvert_exporter": "python",
   "pygments_lexer": "ipython3",
   "version": "3.6.7"
  }
 },
 "nbformat": 4,
 "nbformat_minor": 2
}
